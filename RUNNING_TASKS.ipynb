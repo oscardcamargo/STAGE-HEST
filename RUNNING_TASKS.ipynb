{
 "cells": [
  {
   "cell_type": "code",
   "execution_count": 1,
   "id": "ed220ed1-3121-444a-8374-2a63023fbe95",
   "metadata": {},
   "outputs": [],
   "source": [
    "from hest import iter_hest\n",
    "import scanpy as sc\n",
    "import numpy as np\n",
    "from scipy.stats import pearsonr\n",
    "from tqdm import tqdm"
   ]
  },
  {
   "cell_type": "markdown",
   "id": "2c656711-5d7b-4d1b-be67-119e65055281",
   "metadata": {},
   "source": [
    "## Task 6: Recovery of spots in rectal adenocarcinoma"
   ]
  },
  {
   "cell_type": "markdown",
   "id": "385b84f9-87ee-43e0-9edb-88b588f5402e",
   "metadata": {},
   "source": [
    "#### Pearson Correlation at 50% downsampling"
   ]
  },
  {
   "cell_type": "code",
   "execution_count": 9,
   "id": "1d3bdf56-3cb1-43e2-84b5-d4ca07c79a1e",
   "metadata": {
    "tags": []
   },
   "outputs": [
    {
     "name": "stderr",
     "output_type": "stream",
     "text": [
      "ZEN36:   0%|          | 0/500 [00:00<?, ?it/s]/scratch/local/128391/ipykernel_1812187/3014666219.py:28: ConstantInputWarning: An input array is constant; the correlation coefficient is not defined.\n",
      "  r, _ = pearsonr(\n",
      "ZEN36: 100%|██████████| 500/500 [00:09<00:00, 52.06it/s]\n",
      "ZEN40:   0%|          | 0/493 [00:00<?, ?it/s]/scratch/local/128391/ipykernel_1812187/3014666219.py:28: ConstantInputWarning: An input array is constant; the correlation coefficient is not defined.\n",
      "  r, _ = pearsonr(\n",
      "ZEN40: 100%|██████████| 493/493 [00:08<00:00, 61.45it/s]\n",
      "ZEN48:   0%|          | 0/497 [00:00<?, ?it/s]/scratch/local/128391/ipykernel_1812187/3014666219.py:28: ConstantInputWarning: An input array is constant; the correlation coefficient is not defined.\n",
      "  r, _ = pearsonr(\n",
      "ZEN48: 100%|██████████| 497/497 [00:10<00:00, 48.35it/s]\n",
      "ZEN49:   0%|          | 0/500 [00:00<?, ?it/s]/scratch/local/128391/ipykernel_1812187/3014666219.py:28: ConstantInputWarning: An input array is constant; the correlation coefficient is not defined.\n",
      "  r, _ = pearsonr(\n",
      "ZEN49: 100%|██████████| 500/500 [00:10<00:00, 49.11it/s]"
     ]
    },
    {
     "name": "stdout",
     "output_type": "stream",
     "text": [
      "\n",
      "Overall Pearson Correlation Mean (top 500 HVGs): 0.5982\n",
      "Overall Pearson Correlation Std: 0.1403\n"
     ]
    },
    {
     "name": "stderr",
     "output_type": "stream",
     "text": [
      "\n"
     ]
    }
   ],
   "source": [
    "id_list = [\"ZEN36\", \"ZEN40\", \"ZEN48\", \"ZEN49\"]\n",
    "all_pearsons = []\n",
    "\n",
    "int_id = 0\n",
    "for st in iter_hest('ocamargo/hest_data', id_list=id_list):\n",
    "    adata = st.adata\n",
    "    adata.var_names_make_unique()\n",
    "    adata.obsm[\"coord\"] = adata.obs[[\"array_col\", \"array_row\"]].to_numpy()\n",
    "\n",
    "    # Flip Y-axis\n",
    "    adata.obsm['coord'][:, 1] = adata.obsm['coord'][:, 1] * (-1)\n",
    "\n",
    "    # Preprocess adata\n",
    "    sc.pp.highly_variable_genes(adata, flavor=\"seurat_v3\", n_top_genes=500)\n",
    "    sc.pp.normalize_total(adata, target_sum=1e4)\n",
    "    sc.pp.log1p(adata)\n",
    "\n",
    "    hvg_genes = adata.var[adata.var['highly_variable']].index\n",
    "\n",
    "    # Load pre-normalized stage data\n",
    "    adata_stage = sc.read_h5ad(f'./HEST_TASK8/{id_list[int_id]}/down_ratio0.5/recovered_data.h5ad')\n",
    "\n",
    "    # Use common genes between adata HVGs and adata_stage\n",
    "    common_genes = hvg_genes.intersection(adata_stage.var_names)\n",
    "\n",
    "    for gene in tqdm(common_genes, desc=f\"{id_list[int_id]}\"):\n",
    "        try:\n",
    "            r, _ = pearsonr(\n",
    "                adata[:, gene].X.toarray().squeeze(),\n",
    "                adata_stage[:, gene].X.toarray().squeeze()\n",
    "            )\n",
    "            all_pearsons.append(r)\n",
    "        except Exception as e:\n",
    "            continue\n",
    "\n",
    "    int_id += 1\n",
    "\n",
    "# Final stats\n",
    "if all_pearsons:\n",
    "    mean_r = np.nanmean(all_pearsons)\n",
    "    std_r = np.nanstd(all_pearsons)\n",
    "    print(f\"\\nOverall Pearson Correlation Mean (top 500 HVGs): {mean_r:.4f}\")\n",
    "    print(f\"Overall Pearson Correlation Std: {std_r:.4f}\")\n",
    "else:\n",
    "    print(\"\\nNo valid Pearson correlations computed.\")"
   ]
  },
  {
   "cell_type": "markdown",
   "id": "b2c8b122-64c6-4c69-9d4f-9d46a96ab03d",
   "metadata": {},
   "source": [
    "#### Pearson Correlation at 30% downsampling"
   ]
  },
  {
   "cell_type": "code",
   "execution_count": 10,
   "id": "e270c198-7cd8-4a8d-9be7-200e57c03f9f",
   "metadata": {
    "tags": []
   },
   "outputs": [
    {
     "name": "stderr",
     "output_type": "stream",
     "text": [
      "ZEN36:   0%|          | 0/500 [00:00<?, ?it/s]/scratch/local/128391/ipykernel_1812187/2275620658.py:28: ConstantInputWarning: An input array is constant; the correlation coefficient is not defined.\n",
      "  r, _ = pearsonr(\n",
      "ZEN36: 100%|██████████| 500/500 [00:09<00:00, 50.51it/s]\n",
      "ZEN40:   0%|          | 0/493 [00:00<?, ?it/s]/scratch/local/128391/ipykernel_1812187/2275620658.py:28: ConstantInputWarning: An input array is constant; the correlation coefficient is not defined.\n",
      "  r, _ = pearsonr(\n",
      "ZEN40: 100%|██████████| 493/493 [00:07<00:00, 62.31it/s]\n",
      "ZEN48:   1%|          | 5/497 [00:00<00:10, 48.99it/s]/scratch/local/128391/ipykernel_1812187/2275620658.py:28: ConstantInputWarning: An input array is constant; the correlation coefficient is not defined.\n",
      "  r, _ = pearsonr(\n",
      "ZEN48: 100%|██████████| 497/497 [00:10<00:00, 49.30it/s]\n",
      "ZEN49:   0%|          | 0/500 [00:00<?, ?it/s]/scratch/local/128391/ipykernel_1812187/2275620658.py:28: ConstantInputWarning: An input array is constant; the correlation coefficient is not defined.\n",
      "  r, _ = pearsonr(\n",
      "ZEN49: 100%|██████████| 500/500 [00:09<00:00, 50.05it/s]"
     ]
    },
    {
     "name": "stdout",
     "output_type": "stream",
     "text": [
      "\n",
      "Overall Pearson Correlation Mean (top 500 HVGs): 0.4158\n",
      "Overall Pearson Correlation Std: 0.2566\n"
     ]
    },
    {
     "name": "stderr",
     "output_type": "stream",
     "text": [
      "\n"
     ]
    }
   ],
   "source": [
    "id_list = [\"ZEN36\", \"ZEN40\", \"ZEN48\", \"ZEN49\"]\n",
    "all_pearsons = []\n",
    "\n",
    "int_id = 0\n",
    "for st in iter_hest('ocamargo/hest_data', id_list=id_list):\n",
    "    adata = st.adata\n",
    "    adata.var_names_make_unique()\n",
    "    adata.obsm[\"coord\"] = adata.obs[[\"array_col\", \"array_row\"]].to_numpy()\n",
    "\n",
    "    # Flip Y-axis\n",
    "    adata.obsm['coord'][:, 1] = adata.obsm['coord'][:, 1] * (-1)\n",
    "\n",
    "    # Preprocess adata\n",
    "    sc.pp.highly_variable_genes(adata, flavor=\"seurat_v3\", n_top_genes=500)\n",
    "    sc.pp.normalize_total(adata, target_sum=1e4)\n",
    "    sc.pp.log1p(adata)\n",
    "\n",
    "    hvg_genes = adata.var[adata.var['highly_variable']].index\n",
    "\n",
    "    # Load pre-normalized stage data\n",
    "    adata_stage = sc.read_h5ad(f'./HEST_TASK8/{id_list[int_id]}/down_ratio0.3/recovered_data.h5ad')\n",
    "\n",
    "    # Use common genes between adata HVGs and adata_stage\n",
    "    common_genes = hvg_genes.intersection(adata_stage.var_names)\n",
    "\n",
    "    for gene in tqdm(common_genes, desc=f\"{id_list[int_id]}\"):\n",
    "        try:\n",
    "            r, _ = pearsonr(\n",
    "                adata[:, gene].X.toarray().squeeze(),\n",
    "                adata_stage[:, gene].X.toarray().squeeze()\n",
    "            )\n",
    "            all_pearsons.append(r)\n",
    "        except Exception as e:\n",
    "            continue\n",
    "\n",
    "    int_id += 1\n",
    "\n",
    "# Final stats\n",
    "if all_pearsons:\n",
    "    mean_r = np.nanmean(all_pearsons)\n",
    "    std_r = np.nanstd(all_pearsons)\n",
    "    print(f\"\\nOverall Pearson Correlation Mean (top 500 HVGs): {mean_r:.4f}\")\n",
    "    print(f\"Overall Pearson Correlation Std: {std_r:.4f}\")\n",
    "else:\n",
    "    print(\"\\nNo valid Pearson correlations computed.\")"
   ]
  },
  {
   "cell_type": "markdown",
   "id": "360bd5c2-3a29-4e77-9ccb-8e85a648b753",
   "metadata": {},
   "source": [
    "#### Pearson Correlation at 70% downsampling"
   ]
  },
  {
   "cell_type": "code",
   "execution_count": 12,
   "id": "92864847-d80c-4d00-b82f-2d85a29e4f3c",
   "metadata": {
    "tags": []
   },
   "outputs": [
    {
     "name": "stderr",
     "output_type": "stream",
     "text": [
      "ZEN36:   0%|          | 0/500 [00:00<?, ?it/s]/scratch/local/128391/ipykernel_1812187/1174481055.py:28: ConstantInputWarning: An input array is constant; the correlation coefficient is not defined.\n",
      "  r, _ = pearsonr(\n",
      "ZEN36: 100%|██████████| 500/500 [00:09<00:00, 51.72it/s]\n",
      "ZEN40:   0%|          | 0/493 [00:00<?, ?it/s]/scratch/local/128391/ipykernel_1812187/1174481055.py:28: ConstantInputWarning: An input array is constant; the correlation coefficient is not defined.\n",
      "  r, _ = pearsonr(\n",
      "ZEN40: 100%|██████████| 493/493 [00:08<00:00, 60.48it/s]\n",
      "ZEN48:   0%|          | 0/497 [00:00<?, ?it/s]/scratch/local/128391/ipykernel_1812187/1174481055.py:28: ConstantInputWarning: An input array is constant; the correlation coefficient is not defined.\n",
      "  r, _ = pearsonr(\n",
      "ZEN48: 100%|██████████| 497/497 [00:09<00:00, 50.25it/s]\n",
      "ZEN49:   0%|          | 0/500 [00:00<?, ?it/s]/scratch/local/128391/ipykernel_1812187/1174481055.py:28: ConstantInputWarning: An input array is constant; the correlation coefficient is not defined.\n",
      "  r, _ = pearsonr(\n",
      "ZEN49: 100%|██████████| 500/500 [00:10<00:00, 48.06it/s]"
     ]
    },
    {
     "name": "stdout",
     "output_type": "stream",
     "text": [
      "\n",
      "Overall Pearson Correlation Mean (top 500 HVGs): 0.6211\n",
      "Overall Pearson Correlation Std: 0.1424\n"
     ]
    },
    {
     "name": "stderr",
     "output_type": "stream",
     "text": [
      "\n"
     ]
    }
   ],
   "source": [
    "id_list = [\"ZEN36\", \"ZEN40\", \"ZEN48\", \"ZEN49\"]\n",
    "all_pearsons = []\n",
    "\n",
    "int_id = 0\n",
    "for st in iter_hest('ocamargo/hest_data', id_list=id_list):\n",
    "    adata = st.adata\n",
    "    adata.var_names_make_unique()\n",
    "    adata.obsm[\"coord\"] = adata.obs[[\"array_col\", \"array_row\"]].to_numpy()\n",
    "\n",
    "    # Flip Y-axis\n",
    "    adata.obsm['coord'][:, 1] = adata.obsm['coord'][:, 1] * (-1)\n",
    "\n",
    "    # Preprocess adata\n",
    "    sc.pp.highly_variable_genes(adata, flavor=\"seurat_v3\", n_top_genes=500)\n",
    "    sc.pp.normalize_total(adata, target_sum=1e4)\n",
    "    sc.pp.log1p(adata)\n",
    "\n",
    "    hvg_genes = adata.var[adata.var['highly_variable']].index\n",
    "\n",
    "    # Load pre-normalized stage data\n",
    "    adata_stage = sc.read_h5ad(f'./HEST_TASK8/{id_list[int_id]}/down_ratio0.7/recovered_data.h5ad')\n",
    "\n",
    "    # Use common genes between adata HVGs and adata_stage\n",
    "    common_genes = hvg_genes.intersection(adata_stage.var_names)\n",
    "\n",
    "    for gene in tqdm(common_genes, desc=f\"{id_list[int_id]}\"):\n",
    "        try:\n",
    "            r, _ = pearsonr(\n",
    "                adata[:, gene].X.toarray().squeeze(),\n",
    "                adata_stage[:, gene].X.toarray().squeeze()\n",
    "            )\n",
    "            all_pearsons.append(r)\n",
    "        except Exception as e:\n",
    "            continue\n",
    "\n",
    "    int_id += 1\n",
    "\n",
    "# Final stats\n",
    "if all_pearsons:\n",
    "    mean_r = np.nanmean(all_pearsons)\n",
    "    std_r = np.nanstd(all_pearsons)\n",
    "    print(f\"\\nOverall Pearson Correlation Mean (top 500 HVGs): {mean_r:.4f}\")\n",
    "    print(f\"Overall Pearson Correlation Std: {std_r:.4f}\")\n",
    "else:\n",
    "    print(\"\\nNo valid Pearson correlations computed.\")"
   ]
  },
  {
   "cell_type": "markdown",
   "id": "e898cca4-4a67-4a57-b2f1-074e68871c0e",
   "metadata": {
    "tags": []
   },
   "source": [
    "## Task 9: Recovery of spots in axillary lymph nodes in IDC patients"
   ]
  },
  {
   "cell_type": "markdown",
   "id": "9ee0707e-a273-42ec-9886-b23e3e234f6e",
   "metadata": {},
   "source": [
    "#### Pearson Correlation at 50% downsampling"
   ]
  },
  {
   "cell_type": "code",
   "execution_count": 7,
   "id": "7fd38b8e-926c-4ce3-9bbd-0e6aba454cc5",
   "metadata": {
    "tags": []
   },
   "outputs": [
    {
     "name": "stderr",
     "output_type": "stream",
     "text": [
      "NCBI681:   0%|          | 0/500 [00:00<?, ?it/s]/scratch/local/128391/ipykernel_1812187/165717934.py:28: ConstantInputWarning: An input array is constant; the correlation coefficient is not defined.\n",
      "  r, _ = pearsonr(\n",
      "NCBI681: 100%|██████████| 500/500 [00:26<00:00, 18.55it/s]\n",
      "NCBI682:   0%|          | 2/500 [00:00<00:38, 12.87it/s]/scratch/local/128391/ipykernel_1812187/165717934.py:28: ConstantInputWarning: An input array is constant; the correlation coefficient is not defined.\n",
      "  r, _ = pearsonr(\n",
      "NCBI682: 100%|██████████| 500/500 [00:27<00:00, 18.08it/s]\n",
      "NCBI683:   0%|          | 0/500 [00:00<?, ?it/s]/scratch/local/128391/ipykernel_1812187/165717934.py:28: ConstantInputWarning: An input array is constant; the correlation coefficient is not defined.\n",
      "  r, _ = pearsonr(\n",
      "NCBI683: 100%|██████████| 500/500 [00:24<00:00, 20.36it/s]\n",
      "/blue/tkahveci/ocamargo/.conda/envs/hest/lib/python3.10/site-packages/scanpy/preprocessing/_normalization.py:243: UserWarning: Some cells have zero counts\n",
      "  warn(UserWarning(\"Some cells have zero counts\"))\n",
      "NCBI684:   0%|          | 0/500 [00:00<?, ?it/s]/scratch/local/128391/ipykernel_1812187/165717934.py:28: ConstantInputWarning: An input array is constant; the correlation coefficient is not defined.\n",
      "  r, _ = pearsonr(\n",
      "NCBI684: 100%|██████████| 500/500 [00:20<00:00, 24.08it/s]"
     ]
    },
    {
     "name": "stdout",
     "output_type": "stream",
     "text": [
      "\n",
      "Overall Pearson Correlation Mean (top 500 HVGs): 0.6017\n",
      "Overall Pearson Correlation Std: 0.1140\n"
     ]
    },
    {
     "name": "stderr",
     "output_type": "stream",
     "text": [
      "\n"
     ]
    }
   ],
   "source": [
    "id_list = [\"NCBI681\", \"NCBI682\", \"NCBI683\", \"NCBI684\"]\n",
    "all_pearsons = []\n",
    "\n",
    "int_id = 0\n",
    "for st in iter_hest('ocamargo/hest_data', id_list=id_list):\n",
    "    adata = st.adata\n",
    "    adata.var_names_make_unique()\n",
    "    adata.obsm[\"coord\"] = adata.obs[[\"array_col\", \"array_row\"]].to_numpy()\n",
    "\n",
    "    # Flip Y-axis\n",
    "    adata.obsm['coord'][:, 1] = adata.obsm['coord'][:, 1] * (-1)\n",
    "\n",
    "    # Preprocess adata\n",
    "    sc.pp.highly_variable_genes(adata, flavor=\"seurat_v3\", n_top_genes=500)\n",
    "    sc.pp.normalize_total(adata, target_sum=1e4)\n",
    "    sc.pp.log1p(adata)\n",
    "\n",
    "    hvg_genes = adata.var[adata.var['highly_variable']].index\n",
    "\n",
    "    # Load pre-normalized stage data\n",
    "    adata_stage = sc.read_h5ad(f'./HEST_TASK8/{id_list[int_id]}/down_ratio0.5/recovered_data.h5ad')\n",
    "\n",
    "    # Use common genes between adata HVGs and adata_stage\n",
    "    common_genes = hvg_genes.intersection(adata_stage.var_names)\n",
    "\n",
    "    for gene in tqdm(common_genes, desc=f\"{id_list[int_id]}\"):\n",
    "        try:\n",
    "            r, _ = pearsonr(\n",
    "                adata[:, gene].X.toarray().squeeze(),\n",
    "                adata_stage[:, gene].X.toarray().squeeze()\n",
    "            )\n",
    "            all_pearsons.append(r)\n",
    "        except Exception as e:\n",
    "            continue\n",
    "\n",
    "    int_id += 1\n",
    "\n",
    "# Final stats\n",
    "if all_pearsons:\n",
    "    mean_r = np.nanmean(all_pearsons)\n",
    "    std_r = np.nanstd(all_pearsons)\n",
    "    print(f\"\\nOverall Pearson Correlation Mean (top 500 HVGs): {mean_r:.4f}\")\n",
    "    print(f\"Overall Pearson Correlation Std: {std_r:.4f}\")\n",
    "else:\n",
    "    print(\"\\nNo valid Pearson correlations computed.\")"
   ]
  },
  {
   "cell_type": "markdown",
   "id": "5ac03967-655e-41b3-a37c-d27dc712c4ca",
   "metadata": {},
   "source": [
    "#### Pearson Correlation at 30% downsampling"
   ]
  },
  {
   "cell_type": "code",
   "execution_count": 6,
   "id": "47c23cf3-1b77-42ed-a308-5c4b17727236",
   "metadata": {
    "tags": []
   },
   "outputs": [
    {
     "name": "stderr",
     "output_type": "stream",
     "text": [
      "NCBI681:   0%|          | 0/500 [00:00<?, ?it/s]/scratch/local/128391/ipykernel_1812187/2197697890.py:28: ConstantInputWarning: An input array is constant; the correlation coefficient is not defined.\n",
      "  r, _ = pearsonr(\n",
      "NCBI681: 100%|██████████| 500/500 [00:26<00:00, 18.99it/s]\n",
      "NCBI682:   0%|          | 2/500 [00:00<00:39, 12.66it/s]/scratch/local/128391/ipykernel_1812187/2197697890.py:28: ConstantInputWarning: An input array is constant; the correlation coefficient is not defined.\n",
      "  r, _ = pearsonr(\n",
      "NCBI682: 100%|██████████| 500/500 [00:28<00:00, 17.55it/s]\n",
      "NCBI683:   0%|          | 0/500 [00:00<?, ?it/s]/scratch/local/128391/ipykernel_1812187/2197697890.py:28: ConstantInputWarning: An input array is constant; the correlation coefficient is not defined.\n",
      "  r, _ = pearsonr(\n",
      "NCBI683: 100%|██████████| 500/500 [00:25<00:00, 19.96it/s]\n",
      "/blue/tkahveci/ocamargo/.conda/envs/hest/lib/python3.10/site-packages/scanpy/preprocessing/_normalization.py:243: UserWarning: Some cells have zero counts\n",
      "  warn(UserWarning(\"Some cells have zero counts\"))\n",
      "NCBI684:   0%|          | 0/500 [00:00<?, ?it/s]/scratch/local/128391/ipykernel_1812187/2197697890.py:28: ConstantInputWarning: An input array is constant; the correlation coefficient is not defined.\n",
      "  r, _ = pearsonr(\n",
      "NCBI684: 100%|██████████| 500/500 [00:21<00:00, 23.63it/s]"
     ]
    },
    {
     "name": "stdout",
     "output_type": "stream",
     "text": [
      "\n",
      "Overall Pearson Correlation Mean (top 500 HVGs): 0.5584\n",
      "Overall Pearson Correlation Std: 0.1260\n"
     ]
    },
    {
     "name": "stderr",
     "output_type": "stream",
     "text": [
      "\n"
     ]
    }
   ],
   "source": [
    "id_list = [\"NCBI681\", \"NCBI682\", \"NCBI683\", \"NCBI684\"]\n",
    "all_pearsons = []\n",
    "\n",
    "int_id = 0\n",
    "for st in iter_hest('ocamargo/hest_data', id_list=id_list):\n",
    "    adata = st.adata\n",
    "    adata.var_names_make_unique()\n",
    "    adata.obsm[\"coord\"] = adata.obs[[\"array_col\", \"array_row\"]].to_numpy()\n",
    "\n",
    "    # Flip Y-axis\n",
    "    adata.obsm['coord'][:, 1] = adata.obsm['coord'][:, 1] * (-1)\n",
    "\n",
    "    # Preprocess adata\n",
    "    sc.pp.highly_variable_genes(adata, flavor=\"seurat_v3\", n_top_genes=500)\n",
    "    sc.pp.normalize_total(adata, target_sum=1e4)\n",
    "    sc.pp.log1p(adata)\n",
    "\n",
    "    hvg_genes = adata.var[adata.var['highly_variable']].index\n",
    "\n",
    "    # Load pre-normalized stage data\n",
    "    adata_stage = sc.read_h5ad(f'./HEST_TASK8/{id_list[int_id]}/down_ratio0.3/recovered_data.h5ad')\n",
    "\n",
    "    # Use common genes between adata HVGs and adata_stage\n",
    "    common_genes = hvg_genes.intersection(adata_stage.var_names)\n",
    "\n",
    "    for gene in tqdm(common_genes, desc=f\"{id_list[int_id]}\"):\n",
    "        try:\n",
    "            r, _ = pearsonr(\n",
    "                adata[:, gene].X.toarray().squeeze(),\n",
    "                adata_stage[:, gene].X.toarray().squeeze()\n",
    "            )\n",
    "            all_pearsons.append(r)\n",
    "        except Exception as e:\n",
    "            continue\n",
    "\n",
    "    int_id += 1\n",
    "\n",
    "# Final stats\n",
    "if all_pearsons:\n",
    "    mean_r = np.nanmean(all_pearsons)\n",
    "    std_r = np.nanstd(all_pearsons)\n",
    "    print(f\"\\nOverall Pearson Correlation Mean (top 500 HVGs): {mean_r:.4f}\")\n",
    "    print(f\"Overall Pearson Correlation Std: {std_r:.4f}\")\n",
    "else:\n",
    "    print(\"\\nNo valid Pearson correlations computed.\")"
   ]
  },
  {
   "cell_type": "markdown",
   "id": "f0731a52-9470-4c88-a40c-5be0978fed4d",
   "metadata": {},
   "source": [
    "#### Pearson Correlation at 70% downsampling"
   ]
  },
  {
   "cell_type": "code",
   "execution_count": 5,
   "id": "3f7ad15a-50e0-4165-a261-1b9c4f60342a",
   "metadata": {
    "tags": []
   },
   "outputs": [
    {
     "name": "stderr",
     "output_type": "stream",
     "text": [
      "NCBI681:   0%|          | 0/500 [00:00<?, ?it/s]/scratch/local/128391/ipykernel_1812187/2806327743.py:28: ConstantInputWarning: An input array is constant; the correlation coefficient is not defined.\n",
      "  r, _ = pearsonr(\n",
      "NCBI681: 100%|██████████| 500/500 [00:26<00:00, 19.11it/s]\n",
      "NCBI682:   0%|          | 2/500 [00:00<00:28, 17.31it/s]/scratch/local/128391/ipykernel_1812187/2806327743.py:28: ConstantInputWarning: An input array is constant; the correlation coefficient is not defined.\n",
      "  r, _ = pearsonr(\n",
      "NCBI682: 100%|██████████| 500/500 [00:27<00:00, 18.38it/s]\n",
      "NCBI683:   0%|          | 0/500 [00:00<?, ?it/s]/scratch/local/128391/ipykernel_1812187/2806327743.py:28: ConstantInputWarning: An input array is constant; the correlation coefficient is not defined.\n",
      "  r, _ = pearsonr(\n",
      "NCBI683: 100%|██████████| 500/500 [00:24<00:00, 20.29it/s]\n",
      "/blue/tkahveci/ocamargo/.conda/envs/hest/lib/python3.10/site-packages/scanpy/preprocessing/_normalization.py:243: UserWarning: Some cells have zero counts\n",
      "  warn(UserWarning(\"Some cells have zero counts\"))\n",
      "NCBI684:   0%|          | 0/500 [00:00<?, ?it/s]/scratch/local/128391/ipykernel_1812187/2806327743.py:28: ConstantInputWarning: An input array is constant; the correlation coefficient is not defined.\n",
      "  r, _ = pearsonr(\n",
      "NCBI684: 100%|██████████| 500/500 [00:20<00:00, 24.31it/s]"
     ]
    },
    {
     "name": "stdout",
     "output_type": "stream",
     "text": [
      "\n",
      "Overall Pearson Correlation Mean (top 500 HVGs): 0.6266\n",
      "Overall Pearson Correlation Std: 0.1106\n"
     ]
    },
    {
     "name": "stderr",
     "output_type": "stream",
     "text": [
      "\n"
     ]
    }
   ],
   "source": [
    "id_list = [\"NCBI681\", \"NCBI682\", \"NCBI683\", \"NCBI684\"]\n",
    "all_pearsons = []\n",
    "\n",
    "int_id = 0\n",
    "for st in iter_hest('ocamargo/hest_data', id_list=id_list):\n",
    "    adata = st.adata\n",
    "    adata.var_names_make_unique()\n",
    "    adata.obsm[\"coord\"] = adata.obs[[\"array_col\", \"array_row\"]].to_numpy()\n",
    "\n",
    "    # Flip Y-axis\n",
    "    adata.obsm['coord'][:, 1] = adata.obsm['coord'][:, 1] * (-1)\n",
    "\n",
    "    # Preprocess adata\n",
    "    sc.pp.highly_variable_genes(adata, flavor=\"seurat_v3\", n_top_genes=500)\n",
    "    sc.pp.normalize_total(adata, target_sum=1e4)\n",
    "    sc.pp.log1p(adata)\n",
    "\n",
    "    hvg_genes = adata.var[adata.var['highly_variable']].index\n",
    "\n",
    "    # Load pre-normalized stage data\n",
    "    adata_stage = sc.read_h5ad(f'./HEST_TASK8/{id_list[int_id]}/down_ratio0.7/recovered_data.h5ad')\n",
    "\n",
    "    # Use common genes between adata HVGs and adata_stage\n",
    "    common_genes = hvg_genes.intersection(adata_stage.var_names)\n",
    "\n",
    "    for gene in tqdm(common_genes, desc=f\"{id_list[int_id]}\"):\n",
    "        try:\n",
    "            r, _ = pearsonr(\n",
    "                adata[:, gene].X.toarray().squeeze(),\n",
    "                adata_stage[:, gene].X.toarray().squeeze()\n",
    "            )\n",
    "            all_pearsons.append(r)\n",
    "        except Exception as e:\n",
    "            continue\n",
    "\n",
    "    int_id += 1\n",
    "\n",
    "# Final stats\n",
    "if all_pearsons:\n",
    "    mean_r = np.nanmean(all_pearsons)\n",
    "    std_r = np.nanstd(all_pearsons)\n",
    "    print(f\"\\nOverall Pearson Correlation Mean (top 500 HVGs): {mean_r:.4f}\")\n",
    "    print(f\"Overall Pearson Correlation Std: {std_r:.4f}\")\n",
    "else:\n",
    "    print(\"\\nNo valid Pearson correlations computed.\")"
   ]
  },
  {
   "cell_type": "markdown",
   "id": "928b8ed8-4ca6-4a36-bbf1-bb77b5f67b06",
   "metadata": {
    "tags": []
   },
   "source": [
    "## Task 7: Recovery of spots in clear cell renal cell carcinoma"
   ]
  },
  {
   "cell_type": "markdown",
   "id": "b1ce90de-13c9-4c31-8a53-05626328a707",
   "metadata": {
    "tags": []
   },
   "source": [
    "#### Pearson Correlation at 50% downsampling"
   ]
  },
  {
   "cell_type": "code",
   "execution_count": 5,
   "id": "45884beb-68dd-4e52-acba-c0148f88bc83",
   "metadata": {
    "tags": []
   },
   "outputs": [
    {
     "name": "stderr",
     "output_type": "stream",
     "text": [
      "INT1:   0%|          | 0/499 [00:00<?, ?it/s]/scratch/local/71874/ipykernel_1976279/1469410322.py:34: ConstantInputWarning: An input array is constant; the correlation coefficient is not defined.\n",
      "  r, _ = pearsonr(\n",
      "INT1: 100%|██████████| 499/499 [00:03<00:00, 152.88it/s]\n",
      "INT2:   0%|          | 0/500 [00:00<?, ?it/s]/scratch/local/71874/ipykernel_1976279/1469410322.py:34: ConstantInputWarning: An input array is constant; the correlation coefficient is not defined.\n",
      "  r, _ = pearsonr(\n",
      "INT2: 100%|██████████| 500/500 [00:05<00:00, 91.86it/s] \n",
      "INT3:   0%|          | 0/500 [00:00<?, ?it/s]/scratch/local/71874/ipykernel_1976279/1469410322.py:34: ConstantInputWarning: An input array is constant; the correlation coefficient is not defined.\n",
      "  r, _ = pearsonr(\n",
      "INT3: 100%|██████████| 500/500 [00:06<00:00, 82.57it/s] \n",
      "INT4:   0%|          | 0/500 [00:00<?, ?it/s]/scratch/local/71874/ipykernel_1976279/1469410322.py:34: ConstantInputWarning: An input array is constant; the correlation coefficient is not defined.\n",
      "  r, _ = pearsonr(\n",
      "INT4: 100%|██████████| 500/500 [00:02<00:00, 168.11it/s]\n",
      "INT5:   0%|          | 0/499 [00:00<?, ?it/s]/scratch/local/71874/ipykernel_1976279/1469410322.py:34: ConstantInputWarning: An input array is constant; the correlation coefficient is not defined.\n",
      "  r, _ = pearsonr(\n",
      "INT5: 100%|██████████| 499/499 [00:09<00:00, 52.39it/s]\n",
      "INT6:   0%|          | 0/500 [00:00<?, ?it/s]/scratch/local/71874/ipykernel_1976279/1469410322.py:34: ConstantInputWarning: An input array is constant; the correlation coefficient is not defined.\n",
      "  r, _ = pearsonr(\n",
      "INT6: 100%|██████████| 500/500 [00:06<00:00, 78.65it/s]\n",
      "INT7:   0%|          | 0/499 [00:00<?, ?it/s]/scratch/local/71874/ipykernel_1976279/1469410322.py:34: ConstantInputWarning: An input array is constant; the correlation coefficient is not defined.\n",
      "  r, _ = pearsonr(\n",
      "INT7: 100%|██████████| 499/499 [00:10<00:00, 46.62it/s]\n",
      "INT8:   0%|          | 0/500 [00:00<?, ?it/s]/scratch/local/71874/ipykernel_1976279/1469410322.py:34: ConstantInputWarning: An input array is constant; the correlation coefficient is not defined.\n",
      "  r, _ = pearsonr(\n",
      "INT8: 100%|██████████| 500/500 [00:09<00:00, 50.33it/s]\n",
      "INT9:   0%|          | 0/498 [00:00<?, ?it/s]/scratch/local/71874/ipykernel_1976279/1469410322.py:34: ConstantInputWarning: An input array is constant; the correlation coefficient is not defined.\n",
      "  r, _ = pearsonr(\n",
      "INT9: 100%|██████████| 498/498 [00:06<00:00, 71.30it/s]\n",
      "INT10:   0%|          | 0/489 [00:00<?, ?it/s]/scratch/local/71874/ipykernel_1976279/1469410322.py:34: ConstantInputWarning: An input array is constant; the correlation coefficient is not defined.\n",
      "  r, _ = pearsonr(\n",
      "INT10: 100%|██████████| 489/489 [00:08<00:00, 58.76it/s]\n",
      "INT11:   0%|          | 0/500 [00:00<?, ?it/s]/scratch/local/71874/ipykernel_1976279/1469410322.py:34: ConstantInputWarning: An input array is constant; the correlation coefficient is not defined.\n",
      "  r, _ = pearsonr(\n",
      "INT11: 100%|██████████| 500/500 [00:05<00:00, 85.51it/s] \n",
      "INT12:   0%|          | 0/500 [00:00<?, ?it/s]/scratch/local/71874/ipykernel_1976279/1469410322.py:34: ConstantInputWarning: An input array is constant; the correlation coefficient is not defined.\n",
      "  r, _ = pearsonr(\n",
      "INT12: 100%|██████████| 500/500 [00:06<00:00, 76.03it/s]\n",
      "INT13:   0%|          | 0/500 [00:00<?, ?it/s]/scratch/local/71874/ipykernel_1976279/1469410322.py:34: ConstantInputWarning: An input array is constant; the correlation coefficient is not defined.\n",
      "  r, _ = pearsonr(\n",
      "INT13: 100%|██████████| 500/500 [00:13<00:00, 36.20it/s]\n",
      "INT14:   0%|          | 0/500 [00:00<?, ?it/s]/scratch/local/71874/ipykernel_1976279/1469410322.py:34: ConstantInputWarning: An input array is constant; the correlation coefficient is not defined.\n",
      "  r, _ = pearsonr(\n",
      "INT14: 100%|██████████| 500/500 [00:13<00:00, 37.15it/s]\n",
      "INT15:   0%|          | 0/499 [00:00<?, ?it/s]/scratch/local/71874/ipykernel_1976279/1469410322.py:34: ConstantInputWarning: An input array is constant; the correlation coefficient is not defined.\n",
      "  r, _ = pearsonr(\n",
      "INT15: 100%|██████████| 499/499 [00:14<00:00, 35.61it/s]\n",
      "INT16:   0%|          | 0/500 [00:00<?, ?it/s]/scratch/local/71874/ipykernel_1976279/1469410322.py:34: ConstantInputWarning: An input array is constant; the correlation coefficient is not defined.\n",
      "  r, _ = pearsonr(\n",
      "INT16: 100%|██████████| 500/500 [00:12<00:00, 41.27it/s]\n",
      "INT17:   0%|          | 0/500 [00:00<?, ?it/s]/scratch/local/71874/ipykernel_1976279/1469410322.py:34: ConstantInputWarning: An input array is constant; the correlation coefficient is not defined.\n",
      "  r, _ = pearsonr(\n",
      "INT17: 100%|██████████| 500/500 [00:08<00:00, 57.80it/s]\n",
      "INT18:   0%|          | 0/500 [00:00<?, ?it/s]/scratch/local/71874/ipykernel_1976279/1469410322.py:34: ConstantInputWarning: An input array is constant; the correlation coefficient is not defined.\n",
      "  r, _ = pearsonr(\n",
      "INT18: 100%|██████████| 500/500 [00:17<00:00, 28.49it/s]\n",
      "INT19:   0%|          | 0/500 [00:00<?, ?it/s]/scratch/local/71874/ipykernel_1976279/1469410322.py:34: ConstantInputWarning: An input array is constant; the correlation coefficient is not defined.\n",
      "  r, _ = pearsonr(\n",
      "INT19: 100%|██████████| 500/500 [00:09<00:00, 50.58it/s]\n",
      "INT20:   0%|          | 0/500 [00:00<?, ?it/s]/scratch/local/71874/ipykernel_1976279/1469410322.py:34: ConstantInputWarning: An input array is constant; the correlation coefficient is not defined.\n",
      "  r, _ = pearsonr(\n",
      "INT20: 100%|██████████| 500/500 [00:10<00:00, 46.42it/s]\n",
      "INT21:   0%|          | 0/500 [00:00<?, ?it/s]/scratch/local/71874/ipykernel_1976279/1469410322.py:34: ConstantInputWarning: An input array is constant; the correlation coefficient is not defined.\n",
      "  r, _ = pearsonr(\n",
      "INT21: 100%|██████████| 500/500 [00:17<00:00, 28.75it/s]\n",
      "INT22:   0%|          | 0/500 [00:00<?, ?it/s]/scratch/local/71874/ipykernel_1976279/1469410322.py:34: ConstantInputWarning: An input array is constant; the correlation coefficient is not defined.\n",
      "  r, _ = pearsonr(\n",
      "INT22: 100%|██████████| 500/500 [00:13<00:00, 36.45it/s]\n",
      "INT23:   1%|          | 6/500 [00:00<00:19, 25.56it/s]/scratch/local/71874/ipykernel_1976279/1469410322.py:34: ConstantInputWarning: An input array is constant; the correlation coefficient is not defined.\n",
      "  r, _ = pearsonr(\n",
      "INT23: 100%|██████████| 500/500 [00:19<00:00, 25.53it/s]\n",
      "INT24:   0%|          | 0/500 [00:00<?, ?it/s]/scratch/local/71874/ipykernel_1976279/1469410322.py:34: ConstantInputWarning: An input array is constant; the correlation coefficient is not defined.\n",
      "  r, _ = pearsonr(\n",
      "INT24: 100%|██████████| 500/500 [00:11<00:00, 41.76it/s]\n"
     ]
    },
    {
     "name": "stdout",
     "output_type": "stream",
     "text": [
      "\n",
      "Overall Pearson Correlation Mean (top 500 HVGs): 0.5230\n",
      "Overall Pearson Correlation Std: 0.1273\n"
     ]
    }
   ],
   "source": [
    "id_list = [f'INT{i}' for i in range(1, 25)]\n",
    "all_pearsons = []\n",
    "\n",
    "int_id = 1\n",
    "for st in iter_hest('ocamargo/hest_data', id_list=id_list):\n",
    "    adata = st.adata\n",
    "    adata.var_names_make_unique()\n",
    "    adata.obsm[\"coord\"] = adata.obs[[\"array_col\", \"array_row\"]].to_numpy()\n",
    "\n",
    "    # Flip Y-axis\n",
    "    adata.obsm['coord'][:, 1] = adata.obsm['coord'][:, 1] * (-1)\n",
    "\n",
    "    # Preprocess adata\n",
    "    sc.pp.highly_variable_genes(adata, flavor=\"seurat_v3\", n_top_genes=500)\n",
    "    sc.pp.normalize_total(adata, target_sum=1e4)\n",
    "    sc.pp.log1p(adata)\n",
    "\n",
    "    hvg_genes = adata.var[adata.var['highly_variable']].index\n",
    "\n",
    "    # Load pre-normalized stage data\n",
    "    adata_stage = sc.read_h5ad(f'./HEST_TASK8/INT{int_id}/down_ratio0.5/recovered_data.h5ad')\n",
    "\n",
    "    # Use common genes between adata HVGs and adata_stage\n",
    "    common_genes = hvg_genes.intersection(adata_stage.var_names)\n",
    "\n",
    "    for gene in tqdm(common_genes, desc=f\"INT{int_id}\"):\n",
    "        try:\n",
    "            r, _ = pearsonr(\n",
    "                adata[:, gene].X.toarray().squeeze(),\n",
    "                adata_stage[:, gene].X.toarray().squeeze()\n",
    "            )\n",
    "            all_pearsons.append(r)\n",
    "        except Exception as e:\n",
    "            continue\n",
    "\n",
    "    int_id += 1\n",
    "\n",
    "# Final stats\n",
    "if all_pearsons:\n",
    "    mean_r = np.nanmean(all_pearsons)\n",
    "    std_r = np.nanstd(all_pearsons)\n",
    "    print(f\"\\nOverall Pearson Correlation Mean (top 500 HVGs): {mean_r:.4f}\")\n",
    "    print(f\"Overall Pearson Correlation Std: {std_r:.4f}\")\n",
    "else:\n",
    "    print(\"\\nNo valid Pearson correlations computed.\")\n"
   ]
  },
  {
   "cell_type": "markdown",
   "id": "f235e5fc-0f6f-4064-9b09-91bd2ea1789f",
   "metadata": {
    "tags": []
   },
   "source": [
    "#### Pearson Correlation at 30% downsampling"
   ]
  },
  {
   "cell_type": "code",
   "execution_count": 6,
   "id": "6810d016-3209-445f-860b-151ba64e6224",
   "metadata": {
    "tags": []
   },
   "outputs": [
    {
     "name": "stderr",
     "output_type": "stream",
     "text": [
      "INT1:   0%|          | 0/499 [00:00<?, ?it/s]/scratch/local/71874/ipykernel_1976279/3413096890.py:28: ConstantInputWarning: An input array is constant; the correlation coefficient is not defined.\n",
      "  r, _ = pearsonr(\n",
      "INT1: 100%|██████████| 499/499 [00:03<00:00, 148.17it/s]\n",
      "INT2:   0%|          | 0/500 [00:00<?, ?it/s]/scratch/local/71874/ipykernel_1976279/3413096890.py:28: ConstantInputWarning: An input array is constant; the correlation coefficient is not defined.\n",
      "  r, _ = pearsonr(\n",
      "INT2: 100%|██████████| 500/500 [00:05<00:00, 92.63it/s] \n",
      "INT3:   0%|          | 0/500 [00:00<?, ?it/s]/scratch/local/71874/ipykernel_1976279/3413096890.py:28: ConstantInputWarning: An input array is constant; the correlation coefficient is not defined.\n",
      "  r, _ = pearsonr(\n",
      "INT3: 100%|██████████| 500/500 [00:05<00:00, 95.27it/s] \n",
      "INT4:   0%|          | 0/500 [00:00<?, ?it/s]/scratch/local/71874/ipykernel_1976279/3413096890.py:28: ConstantInputWarning: An input array is constant; the correlation coefficient is not defined.\n",
      "  r, _ = pearsonr(\n",
      "INT4: 100%|██████████| 500/500 [00:02<00:00, 172.64it/s]\n",
      "INT5:   0%|          | 0/499 [00:00<?, ?it/s]/scratch/local/71874/ipykernel_1976279/3413096890.py:28: ConstantInputWarning: An input array is constant; the correlation coefficient is not defined.\n",
      "  r, _ = pearsonr(\n",
      "INT5: 100%|██████████| 499/499 [00:08<00:00, 58.12it/s]\n",
      "INT6:   0%|          | 0/500 [00:00<?, ?it/s]/scratch/local/71874/ipykernel_1976279/3413096890.py:28: ConstantInputWarning: An input array is constant; the correlation coefficient is not defined.\n",
      "  r, _ = pearsonr(\n",
      "INT6: 100%|██████████| 500/500 [00:06<00:00, 79.84it/s]\n",
      "INT7:   0%|          | 0/499 [00:00<?, ?it/s]/scratch/local/71874/ipykernel_1976279/3413096890.py:28: ConstantInputWarning: An input array is constant; the correlation coefficient is not defined.\n",
      "  r, _ = pearsonr(\n",
      "INT7: 100%|██████████| 499/499 [00:09<00:00, 52.50it/s]\n",
      "INT8:   0%|          | 0/500 [00:00<?, ?it/s]/scratch/local/71874/ipykernel_1976279/3413096890.py:28: ConstantInputWarning: An input array is constant; the correlation coefficient is not defined.\n",
      "  r, _ = pearsonr(\n",
      "INT8: 100%|██████████| 500/500 [00:08<00:00, 61.24it/s]\n",
      "INT9:   0%|          | 0/498 [00:00<?, ?it/s]/scratch/local/71874/ipykernel_1976279/3413096890.py:28: ConstantInputWarning: An input array is constant; the correlation coefficient is not defined.\n",
      "  r, _ = pearsonr(\n",
      "INT9: 100%|██████████| 498/498 [00:06<00:00, 77.99it/s]\n",
      "INT10:   0%|          | 0/489 [00:00<?, ?it/s]/scratch/local/71874/ipykernel_1976279/3413096890.py:28: ConstantInputWarning: An input array is constant; the correlation coefficient is not defined.\n",
      "  r, _ = pearsonr(\n",
      "INT10: 100%|██████████| 489/489 [00:07<00:00, 61.41it/s]\n",
      "INT11:   0%|          | 0/500 [00:00<?, ?it/s]/scratch/local/71874/ipykernel_1976279/3413096890.py:28: ConstantInputWarning: An input array is constant; the correlation coefficient is not defined.\n",
      "  r, _ = pearsonr(\n",
      "INT11: 100%|██████████| 500/500 [00:05<00:00, 95.80it/s] \n",
      "INT12:   0%|          | 0/500 [00:00<?, ?it/s]/scratch/local/71874/ipykernel_1976279/3413096890.py:28: ConstantInputWarning: An input array is constant; the correlation coefficient is not defined.\n",
      "  r, _ = pearsonr(\n",
      "INT12: 100%|██████████| 500/500 [00:06<00:00, 76.52it/s]\n",
      "INT13:   0%|          | 0/500 [00:00<?, ?it/s]/scratch/local/71874/ipykernel_1976279/3413096890.py:28: ConstantInputWarning: An input array is constant; the correlation coefficient is not defined.\n",
      "  r, _ = pearsonr(\n",
      "INT13: 100%|██████████| 500/500 [00:12<00:00, 39.21it/s]\n",
      "INT14:   0%|          | 0/500 [00:00<?, ?it/s]/scratch/local/71874/ipykernel_1976279/3413096890.py:28: ConstantInputWarning: An input array is constant; the correlation coefficient is not defined.\n",
      "  r, _ = pearsonr(\n",
      "INT14: 100%|██████████| 500/500 [00:13<00:00, 37.64it/s]\n",
      "INT15:   0%|          | 0/499 [00:00<?, ?it/s]/scratch/local/71874/ipykernel_1976279/3413096890.py:28: ConstantInputWarning: An input array is constant; the correlation coefficient is not defined.\n",
      "  r, _ = pearsonr(\n",
      "INT15: 100%|██████████| 499/499 [00:13<00:00, 37.47it/s]\n",
      "INT16:   0%|          | 0/500 [00:00<?, ?it/s]/scratch/local/71874/ipykernel_1976279/3413096890.py:28: ConstantInputWarning: An input array is constant; the correlation coefficient is not defined.\n",
      "  r, _ = pearsonr(\n",
      "INT16: 100%|██████████| 500/500 [00:10<00:00, 47.57it/s]\n",
      "INT17:   0%|          | 0/500 [00:00<?, ?it/s]/scratch/local/71874/ipykernel_1976279/3413096890.py:28: ConstantInputWarning: An input array is constant; the correlation coefficient is not defined.\n",
      "  r, _ = pearsonr(\n",
      "INT17: 100%|██████████| 500/500 [00:07<00:00, 64.58it/s]\n",
      "INT18:   0%|          | 0/500 [00:00<?, ?it/s]/scratch/local/71874/ipykernel_1976279/3413096890.py:28: ConstantInputWarning: An input array is constant; the correlation coefficient is not defined.\n",
      "  r, _ = pearsonr(\n",
      "INT18: 100%|██████████| 500/500 [00:16<00:00, 30.67it/s]\n",
      "INT19:   0%|          | 0/500 [00:00<?, ?it/s]/scratch/local/71874/ipykernel_1976279/3413096890.py:28: ConstantInputWarning: An input array is constant; the correlation coefficient is not defined.\n",
      "  r, _ = pearsonr(\n",
      "INT19: 100%|██████████| 500/500 [00:10<00:00, 49.45it/s]\n",
      "INT20:   0%|          | 0/500 [00:00<?, ?it/s]/scratch/local/71874/ipykernel_1976279/3413096890.py:28: ConstantInputWarning: An input array is constant; the correlation coefficient is not defined.\n",
      "  r, _ = pearsonr(\n",
      "INT20: 100%|██████████| 500/500 [00:10<00:00, 49.82it/s]\n",
      "INT21:   0%|          | 0/500 [00:00<?, ?it/s]/scratch/local/71874/ipykernel_1976279/3413096890.py:28: ConstantInputWarning: An input array is constant; the correlation coefficient is not defined.\n",
      "  r, _ = pearsonr(\n",
      "INT21: 100%|██████████| 500/500 [00:17<00:00, 29.24it/s]\n",
      "INT22:   0%|          | 0/500 [00:00<?, ?it/s]/scratch/local/71874/ipykernel_1976279/3413096890.py:28: ConstantInputWarning: An input array is constant; the correlation coefficient is not defined.\n",
      "  r, _ = pearsonr(\n",
      "INT22: 100%|██████████| 500/500 [00:13<00:00, 36.47it/s]\n",
      "INT23:   1%|          | 6/500 [00:00<00:18, 27.05it/s]/scratch/local/71874/ipykernel_1976279/3413096890.py:28: ConstantInputWarning: An input array is constant; the correlation coefficient is not defined.\n",
      "  r, _ = pearsonr(\n",
      "INT23: 100%|██████████| 500/500 [00:18<00:00, 26.92it/s]\n",
      "INT24:   0%|          | 0/500 [00:00<?, ?it/s]/scratch/local/71874/ipykernel_1976279/3413096890.py:28: ConstantInputWarning: An input array is constant; the correlation coefficient is not defined.\n",
      "  r, _ = pearsonr(\n",
      "INT24: 100%|██████████| 500/500 [00:11<00:00, 43.02it/s]"
     ]
    },
    {
     "name": "stdout",
     "output_type": "stream",
     "text": [
      "\n",
      "Overall Pearson Correlation Mean (top 500 HVGs): 0.4480\n",
      "Overall Pearson Correlation Std: 0.1419\n"
     ]
    },
    {
     "name": "stderr",
     "output_type": "stream",
     "text": [
      "\n"
     ]
    }
   ],
   "source": [
    "id_list = [f'INT{i}' for i in range(1, 25)]\n",
    "all_pearsons = []\n",
    "\n",
    "int_id = 1\n",
    "for st in iter_hest('ocamargo/hest_data', id_list=id_list):\n",
    "    adata = st.adata\n",
    "    adata.var_names_make_unique()\n",
    "    adata.obsm[\"coord\"] = adata.obs[[\"array_col\", \"array_row\"]].to_numpy()\n",
    "\n",
    "    # Flip Y-axis\n",
    "    adata.obsm['coord'][:, 1] = adata.obsm['coord'][:, 1] * (-1)\n",
    "\n",
    "    # Preprocess adata\n",
    "    sc.pp.highly_variable_genes(adata, flavor=\"seurat_v3\", n_top_genes=500)\n",
    "    sc.pp.normalize_total(adata, target_sum=1e4)\n",
    "    sc.pp.log1p(adata)\n",
    "\n",
    "    hvg_genes = adata.var[adata.var['highly_variable']].index\n",
    "\n",
    "    # Load pre-normalized stage data\n",
    "    adata_stage = sc.read_h5ad(f'./HEST_TASK8/INT{int_id}/down_ratio0.3/recovered_data.h5ad')\n",
    "\n",
    "    # Use common genes between adata HVGs and adata_stage\n",
    "    common_genes = hvg_genes.intersection(adata_stage.var_names)\n",
    "\n",
    "    for gene in tqdm(common_genes, desc=f\"INT{int_id}\"):\n",
    "        try:\n",
    "            r, _ = pearsonr(\n",
    "                adata[:, gene].X.toarray().squeeze(),\n",
    "                adata_stage[:, gene].X.toarray().squeeze()\n",
    "            )\n",
    "            all_pearsons.append(r)\n",
    "        except Exception as e:\n",
    "            continue\n",
    "\n",
    "    int_id += 1\n",
    "\n",
    "# Final stats\n",
    "if all_pearsons:\n",
    "    mean_r = np.nanmean(all_pearsons)\n",
    "    std_r = np.nanstd(all_pearsons)\n",
    "    print(f\"\\nOverall Pearson Correlation Mean (top 500 HVGs): {mean_r:.4f}\")\n",
    "    print(f\"Overall Pearson Correlation Std: {std_r:.4f}\")\n",
    "else:\n",
    "    print(\"\\nNo valid Pearson correlations computed.\")"
   ]
  },
  {
   "cell_type": "markdown",
   "id": "3d2c163c-5079-493c-8578-c762b64c82f1",
   "metadata": {
    "tags": []
   },
   "source": [
    "#### Pearson Correlation at 70% downsampling"
   ]
  },
  {
   "cell_type": "code",
   "execution_count": 7,
   "id": "d1728d8a-d15e-43be-8f6e-986503eb377e",
   "metadata": {
    "tags": []
   },
   "outputs": [
    {
     "name": "stderr",
     "output_type": "stream",
     "text": [
      "INT1:   0%|          | 0/499 [00:00<?, ?it/s]/scratch/local/71874/ipykernel_1976279/571465954.py:28: ConstantInputWarning: An input array is constant; the correlation coefficient is not defined.\n",
      "  r, _ = pearsonr(\n",
      "INT1: 100%|██████████| 499/499 [00:03<00:00, 141.00it/s]\n",
      "INT2:   0%|          | 0/500 [00:00<?, ?it/s]/scratch/local/71874/ipykernel_1976279/571465954.py:28: ConstantInputWarning: An input array is constant; the correlation coefficient is not defined.\n",
      "  r, _ = pearsonr(\n",
      "INT2: 100%|██████████| 500/500 [00:05<00:00, 85.41it/s] \n",
      "INT3:   0%|          | 0/500 [00:00<?, ?it/s]/scratch/local/71874/ipykernel_1976279/571465954.py:28: ConstantInputWarning: An input array is constant; the correlation coefficient is not defined.\n",
      "  r, _ = pearsonr(\n",
      "INT3: 100%|██████████| 500/500 [00:05<00:00, 92.82it/s] \n",
      "INT4:   0%|          | 0/500 [00:00<?, ?it/s]/scratch/local/71874/ipykernel_1976279/571465954.py:28: ConstantInputWarning: An input array is constant; the correlation coefficient is not defined.\n",
      "  r, _ = pearsonr(\n",
      "INT4: 100%|██████████| 500/500 [00:02<00:00, 188.75it/s]\n",
      "INT5:   0%|          | 0/499 [00:00<?, ?it/s]/scratch/local/71874/ipykernel_1976279/571465954.py:28: ConstantInputWarning: An input array is constant; the correlation coefficient is not defined.\n",
      "  r, _ = pearsonr(\n",
      "INT5: 100%|██████████| 499/499 [00:09<00:00, 55.40it/s]\n",
      "INT6:   0%|          | 0/500 [00:00<?, ?it/s]/scratch/local/71874/ipykernel_1976279/571465954.py:28: ConstantInputWarning: An input array is constant; the correlation coefficient is not defined.\n",
      "  r, _ = pearsonr(\n",
      "INT6: 100%|██████████| 500/500 [00:05<00:00, 84.63it/s] \n",
      "INT7:   0%|          | 0/499 [00:00<?, ?it/s]/scratch/local/71874/ipykernel_1976279/571465954.py:28: ConstantInputWarning: An input array is constant; the correlation coefficient is not defined.\n",
      "  r, _ = pearsonr(\n",
      "INT7: 100%|██████████| 499/499 [00:09<00:00, 52.46it/s]\n",
      "INT8:   0%|          | 0/500 [00:00<?, ?it/s]/scratch/local/71874/ipykernel_1976279/571465954.py:28: ConstantInputWarning: An input array is constant; the correlation coefficient is not defined.\n",
      "  r, _ = pearsonr(\n",
      "INT8: 100%|██████████| 500/500 [00:09<00:00, 50.05it/s]\n",
      "INT9:   0%|          | 0/498 [00:00<?, ?it/s]/scratch/local/71874/ipykernel_1976279/571465954.py:28: ConstantInputWarning: An input array is constant; the correlation coefficient is not defined.\n",
      "  r, _ = pearsonr(\n",
      "INT9: 100%|██████████| 498/498 [00:07<00:00, 70.82it/s]\n",
      "INT10:   0%|          | 0/489 [00:00<?, ?it/s]/scratch/local/71874/ipykernel_1976279/571465954.py:28: ConstantInputWarning: An input array is constant; the correlation coefficient is not defined.\n",
      "  r, _ = pearsonr(\n",
      "INT10: 100%|██████████| 489/489 [00:07<00:00, 61.75it/s]\n",
      "INT11:   0%|          | 0/500 [00:00<?, ?it/s]/scratch/local/71874/ipykernel_1976279/571465954.py:28: ConstantInputWarning: An input array is constant; the correlation coefficient is not defined.\n",
      "  r, _ = pearsonr(\n",
      "INT11: 100%|██████████| 500/500 [00:05<00:00, 98.12it/s] \n",
      "INT12:   0%|          | 0/500 [00:00<?, ?it/s]/scratch/local/71874/ipykernel_1976279/571465954.py:28: ConstantInputWarning: An input array is constant; the correlation coefficient is not defined.\n",
      "  r, _ = pearsonr(\n",
      "INT12: 100%|██████████| 500/500 [00:06<00:00, 83.11it/s]\n",
      "INT13:   0%|          | 0/500 [00:00<?, ?it/s]/scratch/local/71874/ipykernel_1976279/571465954.py:28: ConstantInputWarning: An input array is constant; the correlation coefficient is not defined.\n",
      "  r, _ = pearsonr(\n",
      "INT13: 100%|██████████| 500/500 [00:12<00:00, 39.51it/s]\n",
      "INT14:   0%|          | 0/500 [00:00<?, ?it/s]/scratch/local/71874/ipykernel_1976279/571465954.py:28: ConstantInputWarning: An input array is constant; the correlation coefficient is not defined.\n",
      "  r, _ = pearsonr(\n",
      "INT14: 100%|██████████| 500/500 [00:12<00:00, 39.32it/s]\n",
      "INT15:   0%|          | 0/499 [00:00<?, ?it/s]/scratch/local/71874/ipykernel_1976279/571465954.py:28: ConstantInputWarning: An input array is constant; the correlation coefficient is not defined.\n",
      "  r, _ = pearsonr(\n",
      "INT15: 100%|██████████| 499/499 [00:13<00:00, 36.19it/s]\n",
      "INT16:   0%|          | 0/500 [00:00<?, ?it/s]/scratch/local/71874/ipykernel_1976279/571465954.py:28: ConstantInputWarning: An input array is constant; the correlation coefficient is not defined.\n",
      "  r, _ = pearsonr(\n",
      "INT16: 100%|██████████| 500/500 [00:10<00:00, 47.27it/s]\n",
      "INT17:   0%|          | 0/500 [00:00<?, ?it/s]/scratch/local/71874/ipykernel_1976279/571465954.py:28: ConstantInputWarning: An input array is constant; the correlation coefficient is not defined.\n",
      "  r, _ = pearsonr(\n",
      "INT17: 100%|██████████| 500/500 [00:07<00:00, 65.03it/s]\n",
      "INT18:   0%|          | 0/500 [00:00<?, ?it/s]/scratch/local/71874/ipykernel_1976279/571465954.py:28: ConstantInputWarning: An input array is constant; the correlation coefficient is not defined.\n",
      "  r, _ = pearsonr(\n",
      "INT18: 100%|██████████| 500/500 [00:17<00:00, 29.40it/s]\n",
      "INT19:   0%|          | 0/500 [00:00<?, ?it/s]/scratch/local/71874/ipykernel_1976279/571465954.py:28: ConstantInputWarning: An input array is constant; the correlation coefficient is not defined.\n",
      "  r, _ = pearsonr(\n",
      "INT19: 100%|██████████| 500/500 [00:09<00:00, 50.74it/s]\n",
      "INT20:   0%|          | 0/500 [00:00<?, ?it/s]/scratch/local/71874/ipykernel_1976279/571465954.py:28: ConstantInputWarning: An input array is constant; the correlation coefficient is not defined.\n",
      "  r, _ = pearsonr(\n",
      "INT20: 100%|██████████| 500/500 [00:10<00:00, 47.80it/s]\n",
      "INT21:   0%|          | 0/500 [00:00<?, ?it/s]/scratch/local/71874/ipykernel_1976279/571465954.py:28: ConstantInputWarning: An input array is constant; the correlation coefficient is not defined.\n",
      "  r, _ = pearsonr(\n",
      "INT21: 100%|██████████| 500/500 [00:16<00:00, 30.18it/s]\n",
      "INT22:   0%|          | 0/500 [00:00<?, ?it/s]/scratch/local/71874/ipykernel_1976279/571465954.py:28: ConstantInputWarning: An input array is constant; the correlation coefficient is not defined.\n",
      "  r, _ = pearsonr(\n",
      "INT22: 100%|██████████| 500/500 [00:12<00:00, 38.77it/s]\n",
      "INT23:   1%|          | 6/500 [00:00<00:18, 26.83it/s]/scratch/local/71874/ipykernel_1976279/571465954.py:28: ConstantInputWarning: An input array is constant; the correlation coefficient is not defined.\n",
      "  r, _ = pearsonr(\n",
      "INT23: 100%|██████████| 500/500 [00:17<00:00, 27.99it/s]\n",
      "INT24:   0%|          | 0/500 [00:00<?, ?it/s]/scratch/local/71874/ipykernel_1976279/571465954.py:28: ConstantInputWarning: An input array is constant; the correlation coefficient is not defined.\n",
      "  r, _ = pearsonr(\n",
      "INT24: 100%|██████████| 500/500 [00:10<00:00, 47.08it/s]"
     ]
    },
    {
     "name": "stdout",
     "output_type": "stream",
     "text": [
      "\n",
      "Overall Pearson Correlation Mean (top 500 HVGs): 0.5630\n",
      "Overall Pearson Correlation Std: 0.1248\n"
     ]
    },
    {
     "name": "stderr",
     "output_type": "stream",
     "text": [
      "\n"
     ]
    }
   ],
   "source": [
    "id_list = [f'INT{i}' for i in range(1, 25)]\n",
    "all_pearsons = []\n",
    "\n",
    "int_id = 1\n",
    "for st in iter_hest('ocamargo/hest_data', id_list=id_list):\n",
    "    adata = st.adata\n",
    "    adata.var_names_make_unique()\n",
    "    adata.obsm[\"coord\"] = adata.obs[[\"array_col\", \"array_row\"]].to_numpy()\n",
    "\n",
    "    # Flip Y-axis\n",
    "    adata.obsm['coord'][:, 1] = adata.obsm['coord'][:, 1] * (-1)\n",
    "\n",
    "    # Preprocess adata\n",
    "    sc.pp.highly_variable_genes(adata, flavor=\"seurat_v3\", n_top_genes=500)\n",
    "    sc.pp.normalize_total(adata, target_sum=1e4)\n",
    "    sc.pp.log1p(adata)\n",
    "\n",
    "    hvg_genes = adata.var[adata.var['highly_variable']].index\n",
    "\n",
    "    # Load pre-normalized stage data\n",
    "    adata_stage = sc.read_h5ad(f'./HEST_TASK8/INT{int_id}/down_ratio0.7/recovered_data.h5ad')\n",
    "\n",
    "    # Use common genes between adata HVGs and adata_stage\n",
    "    common_genes = hvg_genes.intersection(adata_stage.var_names)\n",
    "\n",
    "    for gene in tqdm(common_genes, desc=f\"INT{int_id}\"):\n",
    "        try:\n",
    "            r, _ = pearsonr(\n",
    "                adata[:, gene].X.toarray().squeeze(),\n",
    "                adata_stage[:, gene].X.toarray().squeeze()\n",
    "            )\n",
    "            all_pearsons.append(r)\n",
    "        except Exception as e:\n",
    "            continue\n",
    "\n",
    "    int_id += 1\n",
    "\n",
    "# Final stats\n",
    "if all_pearsons:\n",
    "    mean_r = np.nanmean(all_pearsons)\n",
    "    std_r = np.nanstd(all_pearsons)\n",
    "    print(f\"\\nOverall Pearson Correlation Mean (top 500 HVGs): {mean_r:.4f}\")\n",
    "    print(f\"Overall Pearson Correlation Std: {std_r:.4f}\")\n",
    "else:\n",
    "    print(\"\\nNo valid Pearson correlations computed.\")"
   ]
  }
 ],
 "metadata": {
  "kernelspec": {
   "display_name": "hest",
   "language": "python",
   "name": "hest"
  },
  "language_info": {
   "codemirror_mode": {
    "name": "ipython",
    "version": 3
   },
   "file_extension": ".py",
   "mimetype": "text/x-python",
   "name": "python",
   "nbconvert_exporter": "python",
   "pygments_lexer": "ipython3",
   "version": "3.10.17"
  }
 },
 "nbformat": 4,
 "nbformat_minor": 5
}
